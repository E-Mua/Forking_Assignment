{
 "cells": [
  {
   "cell_type": "markdown",
   "id": "d22be1ff-cbc2-4446-9260-82f439022b29",
   "metadata": {},
   "source": [
    "Given a list of integers, [1, 2, 3, 4, 5], write a list comprehension that returns a new list where each number is squared, cubed and another one as power of itself."
   ]
  },
  {
   "cell_type": "code",
   "execution_count": 4,
   "id": "c90b4d6a-446e-41c6-a950-6464de256a02",
   "metadata": {},
   "outputs": [
    {
     "name": "stdout",
     "output_type": "stream",
     "text": [
      "[(1, 1, 1), (4, 8, 4), (9, 27, 27), (16, 64, 256), (25, 125, 3125)]\n"
     ]
    }
   ],
   "source": [
    "numbers = [1, 2, 3, 4, 5]\n",
    "result = [(n**2, n**3, n**n) for n in numbers]\n",
    "print(result)"
   ]
  },
  {
   "cell_type": "markdown",
   "id": "2524240d-831a-45ce-9e99-88de13c895a1",
   "metadata": {},
   "source": [
    "Write a list comprehension that filters out only the even numbers from the list [10, 15, 20, 25, 30, 35]."
   ]
  },
  {
   "cell_type": "code",
   "execution_count": 7,
   "id": "fc5cdd7a-96fc-4651-8cba-948f231f95ef",
   "metadata": {},
   "outputs": [
    {
     "name": "stdout",
     "output_type": "stream",
     "text": [
      "[2, 4]\n"
     ]
    }
   ],
   "source": [
    "numbers1 = [10, 15, 20, 25, 30, 35]\n",
    "even_numbers = [n for n in numbers if n % 2 == 0]\n",
    "print(even_numbers)"
   ]
  },
  {
   "cell_type": "markdown",
   "id": "64325ad0-db74-4a86-99eb-d8ecf74fcfa5",
   "metadata": {},
   "source": [
    "Write a list comprehenion/for loop that retuns every 4th vlaue in  range of 1 to 100"
   ]
  },
  {
   "cell_type": "code",
   "execution_count": 10,
   "id": "33091012-268c-449a-8c3e-85dc3a39a581",
   "metadata": {},
   "outputs": [
    {
     "name": "stdout",
     "output_type": "stream",
     "text": [
      "[1, 5, 9, 13, 17, 21, 25, 29, 33, 37, 41, 45, 49, 53, 57, 61, 65, 69, 73, 77, 81, 85, 89, 93, 97]\n"
     ]
    }
   ],
   "source": [
    "fourth_values = [n for n in range(1, 101) if (n - 1) % 4 == 0]\n",
    "print(fourth_values)"
   ]
  },
  {
   "cell_type": "code",
   "execution_count": 12,
   "id": "348705d3-b390-4c92-bdc6-d4bac90058de",
   "metadata": {},
   "outputs": [
    {
     "name": "stdout",
     "output_type": "stream",
     "text": [
      "[1, 5, 9, 13, 17, 21, 25, 29, 33, 37, 41, 45, 49, 53, 57, 61, 65, 69, 73, 77, 81, 85, 89, 93, 97, 1, 5, 9, 13, 17, 21, 25, 29, 33, 37, 41, 45, 49, 53, 57, 61, 65, 69, 73, 77, 81, 85, 89, 93, 97]\n"
     ]
    }
   ],
   "source": [
    "fourth_values1 = []\n",
    "for n in range(1, 101, 4): \n",
    "    fourth_values.append(n)\n",
    "\n",
    "print(fourth_values)"
   ]
  },
  {
   "cell_type": "markdown",
   "id": "2ddb6191-b5f7-454b-8399-ffc9283892d7",
   "metadata": {},
   "source": [
    "You have a list of strings, [\"apple\", \"banana\", \"cherry\"]. Write a list comprehension that converts each string to uppercase."
   ]
  },
  {
   "cell_type": "code",
   "execution_count": 15,
   "id": "73e021c0-b567-4c52-949f-b06a8cdcc32e",
   "metadata": {},
   "outputs": [
    {
     "name": "stdout",
     "output_type": "stream",
     "text": [
      "['APPLE', 'BANANA', 'CHERRY']\n"
     ]
    }
   ],
   "source": [
    "fruits = [\"apple\", \"banana\", \"cherry\"]\n",
    "uppercase_fruits = [fruit.upper() for fruit in fruits]\n",
    "print(uppercase_fruits)"
   ]
  },
  {
   "cell_type": "markdown",
   "id": "2e21270d-4836-412d-b5d0-d5ed6f2b1590",
   "metadata": {},
   "source": [
    "Now create a dictionary comprehension  to output the fruit as key and length of each character in the fruit as value"
   ]
  },
  {
   "cell_type": "code",
   "execution_count": 18,
   "id": "1cbcac3b-95e7-4a77-b29e-f464a81e98cd",
   "metadata": {},
   "outputs": [
    {
     "name": "stdout",
     "output_type": "stream",
     "text": [
      "{'apple': 5, 'banana': 6, 'cherry': 6}\n"
     ]
    }
   ],
   "source": [
    "fruits = [\"apple\", \"banana\", \"cherry\"]\n",
    "fruit_lengths = {fruit: len(fruit) for fruit in fruits}\n",
    "print(fruit_lengths)"
   ]
  },
  {
   "cell_type": "markdown",
   "id": "306f27a7-28f0-4e15-b456-aed2ac98ae40",
   "metadata": {},
   "source": [
    "Given a list of numbers [1, 2, 3, 4, 5, 6], write a single list comprehension that returns: \n",
    "●\t\"even\" for each even number, and\n",
    "●\t\"odd\" for each odd number.\n"
   ]
  },
  {
   "cell_type": "code",
   "execution_count": 21,
   "id": "9151a9a3-824c-4295-a023-1c683d3ec72d",
   "metadata": {},
   "outputs": [
    {
     "name": "stdout",
     "output_type": "stream",
     "text": [
      "['odd', 'even', 'odd', 'even', 'odd', 'even']\n"
     ]
    }
   ],
   "source": [
    "numbers = [1, 2, 3, 4, 5, 6]\n",
    "even_odd_labels = [\"even\" if n % 2 == 0 else \"odd\" for n in numbers]\n",
    "print(even_odd_labels)"
   ]
  },
  {
   "cell_type": "markdown",
   "id": "1984efd3-a408-4950-bec5-8b2df6ec7fd1",
   "metadata": {},
   "source": [
    "Suppose you have a list of words like [\"John\", \"Jane\", \"Erick\", \"Benard\", \"Comprehension\"]. Write a list comprehension that extracts the first letter from each word."
   ]
  },
  {
   "cell_type": "code",
   "execution_count": 24,
   "id": "83c4dd78-d43e-4eaf-a541-7114f7d53f59",
   "metadata": {},
   "outputs": [
    {
     "name": "stdout",
     "output_type": "stream",
     "text": [
      "['J', 'J', 'E', 'B', 'C']\n"
     ]
    }
   ],
   "source": [
    "words = [\"John\", \"Jane\", \"Erick\", \"Benard\", \"Comprehension\"]\n",
    "first_letters = [word[0] for word in words]\n",
    "print(first_letters)"
   ]
  },
  {
   "cell_type": "markdown",
   "id": "8b3de9ad-e12a-41a8-ae03-6cbb73cc3079",
   "metadata": {},
   "source": [
    "Save the outputs as dictionary using dictionary comprehension to show the name of each individual as key and first charatcer as value"
   ]
  },
  {
   "cell_type": "code",
   "execution_count": 27,
   "id": "3d0e8d92-e392-4e0c-939a-ad0d8e5aa79c",
   "metadata": {},
   "outputs": [
    {
     "name": "stdout",
     "output_type": "stream",
     "text": [
      "{'John': 'J', 'Jane': 'J', 'Erick': 'E', 'Benard': 'B', 'Comprehension': 'C'}\n"
     ]
    }
   ],
   "source": [
    "names = [\"John\", \"Jane\", \"Erick\", \"Benard\", \"Comprehension\"]\n",
    "name_first_char = {name: name[0] for name in names}\n",
    "print(name_first_char)"
   ]
  },
  {
   "cell_type": "markdown",
   "id": "403332a3-6b3f-4fec-8f93-d279dbaead57",
   "metadata": {},
   "source": [
    "Convert the outputs of number 1 to 5b as functions and test them"
   ]
  },
  {
   "cell_type": "code",
   "execution_count": 30,
   "id": "f13cf0ca-ac72-417e-b282-4091b461620b",
   "metadata": {},
   "outputs": [
    {
     "name": "stdout",
     "output_type": "stream",
     "text": [
      "1. Squared, Cubed, and Power of Itself: [(1, 1, 1), (4, 8, 4), (9, 27, 27), (16, 64, 256), (25, 125, 3125)]\n",
      "2. Even Numbers: [10, 20, 30]\n",
      "3. Every 4th Value: [1, 5, 9, 13, 17, 21, 25, 29, 33, 37, 41, 45, 49, 53, 57, 61, 65, 69, 73, 77, 81, 85, 89, 93, 97]\n",
      "4. Uppercase Words: ['JOHN', 'JANE', 'ERICK', 'BENARD', 'COMPREHENSION']\n",
      "5a. Word Lengths: {'John': 4, 'Jane': 4, 'Erick': 5, 'Benard': 6, 'Comprehension': 13}\n",
      "5b. First Letter Mapping: {'John': 'J', 'Jane': 'J', 'Erick': 'E', 'Benard': 'B', 'Comprehension': 'C'}\n"
     ]
    }
   ],
   "source": [
    "def transform_numbers(numbers):\n",
    "    return [(n**2, n**3, n**n) for n in numbers]\n",
    "\n",
    "def filter_even_numbers(numbers):\n",
    "    return [n for n in numbers if n % 2 == 0]\n",
    "\n",
    "def every_fourth():\n",
    "    return [n for n in range(1, 101, 4)]\n",
    "\n",
    "def convert_to_uppercase(words):\n",
    "    return [word.upper() for word in words]\n",
    "\n",
    "def word_lengths(words):\n",
    "    return {word: len(word) for word in words}\n",
    "\n",
    "def first_letter_dict(words):\n",
    "    return {word: word[0] for word in words}\n",
    "\n",
    "numbers_list = [1, 2, 3, 4, 5]\n",
    "words_list = [\"John\", \"Jane\", \"Erick\", \"Benard\", \"Comprehension\"]\n",
    "\n",
    "print(\"1. Squared, Cubed, and Power of Itself:\", transform_numbers(numbers_list))\n",
    "print(\"2. Even Numbers:\", filter_even_numbers([10, 15, 20, 25, 30, 35]))\n",
    "print(\"3. Every 4th Value:\", every_fourth())\n",
    "print(\"4. Uppercase Words:\", convert_to_uppercase(words_list))\n",
    "print(\"5a. Word Lengths:\", word_lengths(words_list))\n",
    "print(\"5b. First Letter Mapping:\", first_letter_dict(words_list))"
   ]
  },
  {
   "cell_type": "markdown",
   "id": "ea0f83ed-3d13-4a6d-8d96-0fc743e23d21",
   "metadata": {},
   "source": [
    "Using a lists and dictionary of your choice, create  a dictionary containing 4 lists (full name, age, wight, location, gender) of 10 students."
   ]
  },
  {
   "cell_type": "code",
   "execution_count": 33,
   "id": "0ad91da1-43ae-4ff3-9a7a-8590779025d7",
   "metadata": {},
   "outputs": [
    {
     "name": "stdout",
     "output_type": "stream",
     "text": [
      "{'Full Name': ['Alice Johnson', 'Bob Smith', 'Charlie Brown', 'David Wilson', 'Eve Adams', 'Frank White', 'Grace Lee', 'Henry Clark', 'Ivy Carter', 'Jack Miller'], 'Age': [20, 22, 19, 21, 23, 22, 20, 24, 19, 21], 'Weight': [55, 78, 65, 72, 60, 80, 58, 85, 50, 76], 'Location': ['New York', 'Los Angeles', 'Chicago', 'Houston', 'San Francisco', 'Miami', 'Seattle', 'Boston', 'Dallas', 'Denver'], 'Gender': ['Female', 'Male', 'Male', 'Male', 'Female', 'Male', 'Female', 'Male', 'Female', 'Male']}\n"
     ]
    }
   ],
   "source": [
    "students_info = {\n",
    "    \"Full Name\": [\n",
    "        \"Alice Johnson\", \"Bob Smith\", \"Charlie Brown\", \"David Wilson\", \"Eve Adams\",\n",
    "        \"Frank White\", \"Grace Lee\", \"Henry Clark\", \"Ivy Carter\", \"Jack Miller\"\n",
    "    ],\n",
    "    \"Age\": [20, 22, 19, 21, 23, 22, 20, 24, 19, 21],\n",
    "    \"Weight\": [55, 78, 65, 72, 60, 80, 58, 85, 50, 76],  # In kg\n",
    "    \"Location\": [\n",
    "        \"New York\", \"Los Angeles\", \"Chicago\", \"Houston\", \"San Francisco\",\n",
    "        \"Miami\", \"Seattle\", \"Boston\", \"Dallas\", \"Denver\"\n",
    "    ],\n",
    "    \"Gender\": [\"Female\", \"Male\", \"Male\", \"Male\", \"Female\", \"Male\", \"Female\", \"Male\", \"Female\", \"Male\"]\n",
    "}\n",
    "\n",
    "print(students_info)"
   ]
  },
  {
   "cell_type": "markdown",
   "id": "9f937ecd-9eed-404b-bc42-8e65c01637c1",
   "metadata": {},
   "source": [
    "Convert the output of number six above into pandas dataframes"
   ]
  },
  {
   "cell_type": "code",
   "execution_count": 41,
   "id": "a8e001aa-9c28-40c2-8dc4-a8260fb3ed0d",
   "metadata": {},
   "outputs": [
    {
     "name": "stdout",
     "output_type": "stream",
     "text": [
      "       Full Name  Age  Weight       Location  Gender\n",
      "0  Alice Johnson   20      55       New York  Female\n",
      "1      Bob Smith   22      78    Los Angeles    Male\n",
      "2  Charlie Brown   19      65        Chicago    Male\n",
      "3   David Wilson   21      72        Houston    Male\n",
      "4      Eve Adams   23      60  San Francisco  Female\n",
      "5    Frank White   22      80          Miami    Male\n",
      "6      Grace Lee   20      58        Seattle  Female\n",
      "7    Henry Clark   24      85         Boston    Male\n",
      "8     Ivy Carter   19      50         Dallas  Female\n",
      "9    Jack Miller   21      76         Denver    Male\n"
     ]
    }
   ],
   "source": [
    "import pandas as pd\n",
    "\n",
    "students_info = {\n",
    "    \"Full Name\": [\n",
    "        \"Alice Johnson\", \"Bob Smith\", \"Charlie Brown\", \"David Wilson\", \"Eve Adams\",\n",
    "        \"Frank White\", \"Grace Lee\", \"Henry Clark\", \"Ivy Carter\", \"Jack Miller\"\n",
    "    ],\n",
    "    \"Age\": [20, 22, 19, 21, 23, 22, 20, 24, 19, 21],\n",
    "    \"Weight\": [55, 78, 65, 72, 60, 80, 58, 85, 50, 76],  # In kg\n",
    "    \"Location\": [\n",
    "        \"New York\", \"Los Angeles\", \"Chicago\", \"Houston\", \"San Francisco\",\n",
    "        \"Miami\", \"Seattle\", \"Boston\", \"Dallas\", \"Denver\"\n",
    "    ],\n",
    "    \"Gender\": [\"Female\", \"Male\", \"Male\", \"Male\", \"Female\", \"Male\", \"Female\", \"Male\", \"Female\", \"Male\"]\n",
    "}\n",
    "\n",
    "df = pd.DataFrame(students_info)\n",
    "\n",
    "print(df)"
   ]
  },
  {
   "cell_type": "markdown",
   "id": "5efe8307-02ef-4eb1-bc74-616d15341199",
   "metadata": {},
   "source": [
    "Now create a new dictionary of key as name of students in number six and value as gender of students using dictionary comprehensions"
   ]
  },
  {
   "cell_type": "code",
   "execution_count": 44,
   "id": "2e2506f6-4992-426b-a9cd-e8c0332d321a",
   "metadata": {},
   "outputs": [
    {
     "name": "stdout",
     "output_type": "stream",
     "text": [
      "{'Alice Johnson': 'Female', 'Bob Smith': 'Male', 'Charlie Brown': 'Male', 'David Wilson': 'Male', 'Eve Adams': 'Female', 'Frank White': 'Male', 'Grace Lee': 'Female', 'Henry Clark': 'Male', 'Ivy Carter': 'Female', 'Jack Miller': 'Male'}\n"
     ]
    }
   ],
   "source": [
    "students_info = {\n",
    "    \"Full Name\": [\n",
    "        \"Alice Johnson\", \"Bob Smith\", \"Charlie Brown\", \"David Wilson\", \"Eve Adams\",\n",
    "        \"Frank White\", \"Grace Lee\", \"Henry Clark\", \"Ivy Carter\", \"Jack Miller\"\n",
    "    ],\n",
    "    \"Gender\": [\"Female\", \"Male\", \"Male\", \"Male\", \"Female\", \"Male\", \"Female\", \"Male\", \"Female\", \"Male\"]\n",
    "}\n",
    "\n",
    "\n",
    "name_gender_dict = {students_info[\"Full Name\"][i]: students_info[\"Gender\"][i] for i in range(len(students_info[\"Full Name\"]))}\n",
    "\n",
    "print(name_gender_dict)"
   ]
  },
  {
   "cell_type": "code",
   "execution_count": null,
   "id": "af17cfef-d735-45b2-9df0-2c839cf9ad97",
   "metadata": {},
   "outputs": [],
   "source": []
  }
 ],
 "metadata": {
  "kernelspec": {
   "display_name": "Python 3 (ipykernel)",
   "language": "python",
   "name": "python3"
  },
  "language_info": {
   "codemirror_mode": {
    "name": "ipython",
    "version": 3
   },
   "file_extension": ".py",
   "mimetype": "text/x-python",
   "name": "python",
   "nbconvert_exporter": "python",
   "pygments_lexer": "ipython3",
   "version": "3.12.7"
  }
 },
 "nbformat": 4,
 "nbformat_minor": 5
}
